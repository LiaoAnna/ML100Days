{
 "cells": [
  {
   "cell_type": "markdown",
   "metadata": {},
   "source": [
    "我認為機器學習未來會在AI機器人這方面發光發亮，因為創造出可以跟人流利對話的機器人會是一個趨勢，AI管家是未來的方向，\n",
    "配合IOT家具，整合整個家中的電器，並且協助收包裹，注意家中老人與幼童的安全，打掃洗衣取代幫傭。"
   ]
  },
  {
   "cell_type": "code",
   "execution_count": null,
   "metadata": {},
   "outputs": [],
   "source": []
  }
 ],
 "metadata": {
  "kernelspec": {
   "display_name": "Python 3",
   "language": "python",
   "name": "python3"
  },
  "language_info": {
   "codemirror_mode": {
    "name": "ipython",
    "version": 3
   },
   "file_extension": ".py",
   "mimetype": "text/x-python",
   "name": "python",
   "nbconvert_exporter": "python",
   "pygments_lexer": "ipython3",
   "version": "3.8.3"
  }
 },
 "nbformat": 4,
 "nbformat_minor": 4
}
